{
 "cells": [
  {
   "cell_type": "code",
   "execution_count": 1,
   "metadata": {},
   "outputs": [],
   "source": [
    "#importing libraries\n",
    "import numpy as np  \n",
    "import matplotlib.pyplot as mtp  \n",
    "import pandas as pd  "
   ]
  },
  {
   "cell_type": "code",
   "execution_count": 2,
   "metadata": {},
   "outputs": [],
   "source": [
    "#data fetching\n",
    "data = pd.read_csv('Social_Network_Ads.csv')"
   ]
  },
  {
   "cell_type": "code",
   "execution_count": 3,
   "metadata": {},
   "outputs": [
    {
     "data": {
      "text/html": [
       "<div>\n",
       "<style scoped>\n",
       "    .dataframe tbody tr th:only-of-type {\n",
       "        vertical-align: middle;\n",
       "    }\n",
       "\n",
       "    .dataframe tbody tr th {\n",
       "        vertical-align: top;\n",
       "    }\n",
       "\n",
       "    .dataframe thead th {\n",
       "        text-align: right;\n",
       "    }\n",
       "</style>\n",
       "<table border=\"1\" class=\"dataframe\">\n",
       "  <thead>\n",
       "    <tr style=\"text-align: right;\">\n",
       "      <th></th>\n",
       "      <th>User ID</th>\n",
       "      <th>Gender</th>\n",
       "      <th>Age</th>\n",
       "      <th>EstimatedSalary</th>\n",
       "      <th>Purchased</th>\n",
       "    </tr>\n",
       "  </thead>\n",
       "  <tbody>\n",
       "    <tr>\n",
       "      <th>0</th>\n",
       "      <td>15624510</td>\n",
       "      <td>Male</td>\n",
       "      <td>19</td>\n",
       "      <td>19000</td>\n",
       "      <td>0</td>\n",
       "    </tr>\n",
       "    <tr>\n",
       "      <th>1</th>\n",
       "      <td>15810944</td>\n",
       "      <td>Male</td>\n",
       "      <td>35</td>\n",
       "      <td>20000</td>\n",
       "      <td>0</td>\n",
       "    </tr>\n",
       "    <tr>\n",
       "      <th>2</th>\n",
       "      <td>15668575</td>\n",
       "      <td>Female</td>\n",
       "      <td>26</td>\n",
       "      <td>43000</td>\n",
       "      <td>0</td>\n",
       "    </tr>\n",
       "    <tr>\n",
       "      <th>3</th>\n",
       "      <td>15603246</td>\n",
       "      <td>Female</td>\n",
       "      <td>27</td>\n",
       "      <td>57000</td>\n",
       "      <td>0</td>\n",
       "    </tr>\n",
       "    <tr>\n",
       "      <th>4</th>\n",
       "      <td>15804002</td>\n",
       "      <td>Male</td>\n",
       "      <td>19</td>\n",
       "      <td>76000</td>\n",
       "      <td>0</td>\n",
       "    </tr>\n",
       "    <tr>\n",
       "      <th>5</th>\n",
       "      <td>15728773</td>\n",
       "      <td>Male</td>\n",
       "      <td>27</td>\n",
       "      <td>58000</td>\n",
       "      <td>0</td>\n",
       "    </tr>\n",
       "    <tr>\n",
       "      <th>6</th>\n",
       "      <td>15598044</td>\n",
       "      <td>Female</td>\n",
       "      <td>27</td>\n",
       "      <td>84000</td>\n",
       "      <td>0</td>\n",
       "    </tr>\n",
       "    <tr>\n",
       "      <th>7</th>\n",
       "      <td>15694829</td>\n",
       "      <td>Female</td>\n",
       "      <td>32</td>\n",
       "      <td>150000</td>\n",
       "      <td>1</td>\n",
       "    </tr>\n",
       "    <tr>\n",
       "      <th>8</th>\n",
       "      <td>15600575</td>\n",
       "      <td>Male</td>\n",
       "      <td>25</td>\n",
       "      <td>33000</td>\n",
       "      <td>0</td>\n",
       "    </tr>\n",
       "    <tr>\n",
       "      <th>9</th>\n",
       "      <td>15727311</td>\n",
       "      <td>Female</td>\n",
       "      <td>35</td>\n",
       "      <td>65000</td>\n",
       "      <td>0</td>\n",
       "    </tr>\n",
       "  </tbody>\n",
       "</table>\n",
       "</div>"
      ],
      "text/plain": [
       "    User ID  Gender  Age  EstimatedSalary  Purchased\n",
       "0  15624510    Male   19            19000          0\n",
       "1  15810944    Male   35            20000          0\n",
       "2  15668575  Female   26            43000          0\n",
       "3  15603246  Female   27            57000          0\n",
       "4  15804002    Male   19            76000          0\n",
       "5  15728773    Male   27            58000          0\n",
       "6  15598044  Female   27            84000          0\n",
       "7  15694829  Female   32           150000          1\n",
       "8  15600575    Male   25            33000          0\n",
       "9  15727311  Female   35            65000          0"
      ]
     },
     "execution_count": 3,
     "metadata": {},
     "output_type": "execute_result"
    }
   ],
   "source": [
    "data.head(10)"
   ]
  },
  {
   "cell_type": "code",
   "execution_count": 33,
   "metadata": {},
   "outputs": [
    {
     "data": {
      "text/html": [
       "<div>\n",
       "<style scoped>\n",
       "    .dataframe tbody tr th:only-of-type {\n",
       "        vertical-align: middle;\n",
       "    }\n",
       "\n",
       "    .dataframe tbody tr th {\n",
       "        vertical-align: top;\n",
       "    }\n",
       "\n",
       "    .dataframe thead th {\n",
       "        text-align: right;\n",
       "    }\n",
       "</style>\n",
       "<table border=\"1\" class=\"dataframe\">\n",
       "  <thead>\n",
       "    <tr style=\"text-align: right;\">\n",
       "      <th></th>\n",
       "      <th>User ID</th>\n",
       "      <th>Gender</th>\n",
       "      <th>Age</th>\n",
       "      <th>EstimatedSalary</th>\n",
       "      <th>Purchased</th>\n",
       "    </tr>\n",
       "  </thead>\n",
       "  <tbody>\n",
       "    <tr>\n",
       "      <th>count</th>\n",
       "      <td>4.000000e+02</td>\n",
       "      <td>400.000000</td>\n",
       "      <td>400.000000</td>\n",
       "      <td>400.000000</td>\n",
       "      <td>400.000000</td>\n",
       "    </tr>\n",
       "    <tr>\n",
       "      <th>mean</th>\n",
       "      <td>1.569154e+07</td>\n",
       "      <td>0.490000</td>\n",
       "      <td>37.655000</td>\n",
       "      <td>69742.500000</td>\n",
       "      <td>0.357500</td>\n",
       "    </tr>\n",
       "    <tr>\n",
       "      <th>std</th>\n",
       "      <td>7.165832e+04</td>\n",
       "      <td>0.500526</td>\n",
       "      <td>10.482877</td>\n",
       "      <td>34096.960282</td>\n",
       "      <td>0.479864</td>\n",
       "    </tr>\n",
       "    <tr>\n",
       "      <th>min</th>\n",
       "      <td>1.556669e+07</td>\n",
       "      <td>0.000000</td>\n",
       "      <td>18.000000</td>\n",
       "      <td>15000.000000</td>\n",
       "      <td>0.000000</td>\n",
       "    </tr>\n",
       "    <tr>\n",
       "      <th>25%</th>\n",
       "      <td>1.562676e+07</td>\n",
       "      <td>0.000000</td>\n",
       "      <td>29.750000</td>\n",
       "      <td>43000.000000</td>\n",
       "      <td>0.000000</td>\n",
       "    </tr>\n",
       "    <tr>\n",
       "      <th>50%</th>\n",
       "      <td>1.569434e+07</td>\n",
       "      <td>0.000000</td>\n",
       "      <td>37.000000</td>\n",
       "      <td>70000.000000</td>\n",
       "      <td>0.000000</td>\n",
       "    </tr>\n",
       "    <tr>\n",
       "      <th>75%</th>\n",
       "      <td>1.575036e+07</td>\n",
       "      <td>1.000000</td>\n",
       "      <td>46.000000</td>\n",
       "      <td>88000.000000</td>\n",
       "      <td>1.000000</td>\n",
       "    </tr>\n",
       "    <tr>\n",
       "      <th>max</th>\n",
       "      <td>1.581524e+07</td>\n",
       "      <td>1.000000</td>\n",
       "      <td>60.000000</td>\n",
       "      <td>150000.000000</td>\n",
       "      <td>1.000000</td>\n",
       "    </tr>\n",
       "  </tbody>\n",
       "</table>\n",
       "</div>"
      ],
      "text/plain": [
       "            User ID      Gender         Age  EstimatedSalary   Purchased\n",
       "count  4.000000e+02  400.000000  400.000000       400.000000  400.000000\n",
       "mean   1.569154e+07    0.490000   37.655000     69742.500000    0.357500\n",
       "std    7.165832e+04    0.500526   10.482877     34096.960282    0.479864\n",
       "min    1.556669e+07    0.000000   18.000000     15000.000000    0.000000\n",
       "25%    1.562676e+07    0.000000   29.750000     43000.000000    0.000000\n",
       "50%    1.569434e+07    0.000000   37.000000     70000.000000    0.000000\n",
       "75%    1.575036e+07    1.000000   46.000000     88000.000000    1.000000\n",
       "max    1.581524e+07    1.000000   60.000000    150000.000000    1.000000"
      ]
     },
     "execution_count": 33,
     "metadata": {},
     "output_type": "execute_result"
    }
   ],
   "source": [
    "data.describe()"
   ]
  },
  {
   "cell_type": "code",
   "execution_count": 4,
   "metadata": {},
   "outputs": [],
   "source": [
    "from sklearn.preprocessing import LabelEncoder\n",
    "le = LabelEncoder()\n",
    "data['Gender']= le.fit_transform(data['Gender']) "
   ]
  },
  {
   "cell_type": "code",
   "execution_count": 5,
   "metadata": {},
   "outputs": [],
   "source": [
    " x= data.iloc[:,:4].values  "
   ]
  },
  {
   "cell_type": "code",
   "execution_count": 6,
   "metadata": {},
   "outputs": [
    {
     "name": "stdout",
     "output_type": "stream",
     "text": [
      "[[15624510        1       19    19000]\n",
      " [15810944        1       35    20000]\n",
      " [15668575        0       26    43000]\n",
      " ...\n",
      " [15654296        0       50    20000]\n",
      " [15755018        1       36    33000]\n",
      " [15594041        0       49    36000]]\n"
     ]
    }
   ],
   "source": [
    "print(x)"
   ]
  },
  {
   "cell_type": "code",
   "execution_count": 7,
   "metadata": {},
   "outputs": [],
   "source": [
    "y= data.iloc[:, 4].values "
   ]
  },
  {
   "cell_type": "code",
   "execution_count": 8,
   "metadata": {},
   "outputs": [
    {
     "name": "stdout",
     "output_type": "stream",
     "text": [
      "[0 0 0 0 0 0 0 1 0 0 0 0 0 0 0 0 1 1 1 1 1 1 1 1 1 1 1 1 0 0 0 1 0 0 0 0 0\n",
      " 0 0 0 0 0 0 0 0 0 0 0 1 0 0 0 0 0 0 0 0 0 0 0 0 0 0 1 0 0 0 0 0 0 0 0 0 0\n",
      " 0 1 0 0 0 0 0 0 0 0 0 1 0 0 0 0 0 0 0 0 0 0 0 1 0 0 0 0 0 1 0 0 0 0 0 0 0\n",
      " 0 0 0 0 0 0 0 0 0 0 0 0 0 0 0 0 0 0 0 0 0 0 0 0 0 0 1 0 0 0 0 0 0 0 0 1 0\n",
      " 0 0 0 0 0 0 0 0 0 0 0 1 1 0 0 0 0 0 0 0 1 0 0 0 0 0 0 0 0 0 0 0 0 0 1 0 0\n",
      " 0 0 0 0 0 0 0 0 0 0 0 0 0 0 0 0 0 1 0 1 0 1 0 1 0 1 1 0 0 0 1 0 0 0 1 0 1\n",
      " 1 1 0 0 1 1 0 1 1 0 1 1 0 1 0 0 0 1 1 0 1 1 0 1 0 1 0 1 0 0 1 1 0 1 0 0 1\n",
      " 1 0 1 1 0 1 1 0 0 1 0 0 1 1 1 1 1 0 1 1 1 1 0 1 1 0 1 0 1 0 1 1 1 1 0 0 0\n",
      " 1 1 0 1 1 1 1 1 0 0 0 1 1 0 0 1 0 1 0 1 1 0 1 0 1 1 0 1 1 0 0 0 1 1 0 1 0\n",
      " 0 1 0 1 0 0 1 1 0 0 1 1 0 1 1 0 0 1 0 1 0 1 1 1 0 1 0 1 1 1 0 1 1 1 1 0 1\n",
      " 1 1 0 1 0 1 0 0 1 1 0 1 1 1 1 1 1 0 1 1 1 1 1 1 0 1 1 1 0 1]\n"
     ]
    }
   ],
   "source": [
    "print(y)"
   ]
  },
  {
   "cell_type": "code",
   "execution_count": 9,
   "metadata": {},
   "outputs": [],
   "source": [
    "from sklearn.model_selection import train_test_split"
   ]
  },
  {
   "cell_type": "code",
   "execution_count": 10,
   "metadata": {},
   "outputs": [],
   "source": [
    "x_train, x_test, y_train, y_test= train_test_split(x, y, test_size= 0.25, random_state=0)"
   ]
  },
  {
   "cell_type": "code",
   "execution_count": 11,
   "metadata": {},
   "outputs": [
    {
     "name": "stdout",
     "output_type": "stream",
     "text": [
      "[[15810075        0       44    39000]\n",
      " [15583681        1       32   120000]\n",
      " [15733964        0       38    50000]\n",
      " ...\n",
      " [15591433        1       36    52000]\n",
      " [15776348        0       27    54000]\n",
      " [15794661        0       26   118000]]\n"
     ]
    }
   ],
   "source": [
    "print(x_train)"
   ]
  },
  {
   "cell_type": "code",
   "execution_count": 12,
   "metadata": {},
   "outputs": [
    {
     "name": "stdout",
     "output_type": "stream",
     "text": [
      "[0 1 0 1 1 1 0 0 0 0 0 0 1 1 1 0 1 0 0 1 0 1 0 1 0 0 1 1 1 1 0 1 0 1 0 0 1\n",
      " 0 0 1 0 0 0 0 0 1 1 1 1 0 0 0 1 0 1 0 1 0 0 1 0 0 0 1 0 0 0 1 1 0 0 1 0 1\n",
      " 1 1 0 0 1 1 0 0 1 1 0 1 0 0 1 1 0 1 1 1 0 0 0 0 0 1 0 0 1 1 1 1 1 0 1 1 0\n",
      " 1 0 0 0 0 0 0 0 1 1 0 0 1 0 0 1 0 0 0 1 0 1 1 0 1 0 0 0 0 1 0 0 0 1 1 0 0\n",
      " 0 0 1 0 1 0 0 0 1 0 0 0 0 1 1 1 0 0 0 0 0 0 1 1 1 1 1 0 1 0 0 0 0 0 1 0 0\n",
      " 0 0 0 0 1 1 0 1 0 1 0 0 1 0 0 0 1 0 0 0 0 0 1 0 0 0 0 0 1 0 1 1 0 0 0 0 0\n",
      " 0 1 1 0 0 0 0 1 0 0 0 0 1 0 1 0 1 0 0 0 1 0 0 0 1 0 1 0 0 0 0 0 1 1 0 0 0\n",
      " 0 0 1 0 1 1 0 0 0 0 0 1 0 1 0 0 1 0 0 1 0 1 0 0 0 0 0 0 1 1 1 1 0 0 0 0 1\n",
      " 0 0 0 0]\n"
     ]
    }
   ],
   "source": [
    "print(y_train)"
   ]
  },
  {
   "cell_type": "code",
   "execution_count": 13,
   "metadata": {},
   "outputs": [
    {
     "name": "stdout",
     "output_type": "stream",
     "text": [
      "[[15725660        1       30    87000]\n",
      " [15652400        0       38    50000]\n",
      " [15776844        1       35    75000]\n",
      " [15738448        0       30    79000]\n",
      " [15638003        0       35    50000]\n",
      " [15814004        1       27    20000]\n",
      " [15610140        0       31    15000]\n",
      " [15680587        1       36   144000]\n",
      " [15666141        0       18    68000]\n",
      " [15622478        1       47    43000]\n",
      " [15689425        1       30    49000]\n",
      " [15800061        0       28    55000]\n",
      " [15773447        1       37    55000]\n",
      " [15579212        1       39    77000]\n",
      " [15746139        1       20    86000]\n",
      " [15789109        0       32   117000]\n",
      " [15760570        1       37    77000]\n",
      " [15807909        1       19    85000]\n",
      " [15654230        0       55   130000]\n",
      " [15708228        1       35    22000]\n",
      " [15609653        0       35    47000]\n",
      " [15746203        0       47   144000]\n",
      " [15678168        0       41    51000]\n",
      " [15729908        1       47   105000]\n",
      " [15614420        0       23    28000]\n",
      " [15753861        0       49   141000]\n",
      " [15667265        0       28    87000]\n",
      " [15697686        1       29    80000]\n",
      " [15631070        0       37    62000]\n",
      " [15584545        0       32    86000]\n",
      " [15587013        1       21    88000]\n",
      " [15637593        1       37    79000]\n",
      " [15814553        1       57    60000]\n",
      " [15622171        1       37    53000]\n",
      " [15718071        1       24    58000]\n",
      " [15746737        1       18    52000]\n",
      " [15684801        1       22    81000]\n",
      " [15581654        0       34    43000]\n",
      " [15673367        0       31    34000]\n",
      " [15594041        0       49    36000]\n",
      " [15766289        1       27    88000]\n",
      " [15674331        1       41    52000]\n",
      " [15598044        0       27    84000]\n",
      " [15810944        1       35    20000]\n",
      " [15705298        0       43   112000]\n",
      " [15654901        0       27    58000]\n",
      " [15793890        0       37    80000]\n",
      " [15750056        0       52    90000]\n",
      " [15762605        1       26    30000]\n",
      " [15614187        1       49    86000]\n",
      " [15775590        0       57   122000]\n",
      " [15622833        0       34    25000]\n",
      " [15566689        0       35    57000]\n",
      " [15570932        1       34   115000]\n",
      " [15609669        0       59    88000]\n",
      " [15742204        1       45    32000]\n",
      " [15744919        0       29    83000]\n",
      " [15570769        0       26    80000]\n",
      " [15792818        1       49    28000]\n",
      " [15639277        1       23    20000]\n",
      " [15592877        1       32    18000]\n",
      " [15791373        1       60    42000]\n",
      " [15804002        1       19    76000]\n",
      " [15699619        1       36    99000]\n",
      " [15662067        0       19    26000]\n",
      " [15774744        1       60    83000]\n",
      " [15746422        0       24    89000]\n",
      " [15728773        1       27    58000]\n",
      " [15605327        1       40    47000]\n",
      " [15717893        0       42    70000]\n",
      " [15694829        0       32   150000]\n",
      " [15811177        0       35    77000]\n",
      " [15577178        0       22    63000]\n",
      " [15649487        1       45    22000]\n",
      " [15789863        1       27    89000]\n",
      " [15628972        1       18    82000]\n",
      " [15768293        0       42    79000]\n",
      " [15598070        0       40    60000]\n",
      " [15778830        0       53    34000]\n",
      " [15639576        0       47   107000]\n",
      " [15664907        1       58   144000]\n",
      " [15605000        0       59    83000]\n",
      " [15649136        0       24    55000]\n",
      " [15706185        0       26    35000]\n",
      " [15736397        0       58    38000]\n",
      " [15721007        0       42    80000]\n",
      " [15724423        0       40    75000]\n",
      " [15708791        1       59   130000]\n",
      " [15691863        0       46    41000]\n",
      " [15695679        0       41    60000]\n",
      " [15683758        1       42    64000]\n",
      " [15584320        0       37   146000]\n",
      " [15775562        0       23    48000]\n",
      " [15600575        1       25    33000]\n",
      " [15730448        1       24    84000]\n",
      " [15750839        0       27    96000]\n",
      " [15578006        1       23    63000]\n",
      " [15807837        1       48    33000]\n",
      " [15600379        1       48    90000]\n",
      " [15654456        1       42   104000]]\n"
     ]
    }
   ],
   "source": [
    "print(x_test)"
   ]
  },
  {
   "cell_type": "code",
   "execution_count": 14,
   "metadata": {},
   "outputs": [
    {
     "name": "stdout",
     "output_type": "stream",
     "text": [
      "[0 0 0 0 0 0 0 1 0 0 0 0 0 0 0 0 0 0 1 0 0 1 0 1 0 1 0 0 0 0 0 1 1 0 0 0 0\n",
      " 0 0 1 0 0 0 0 1 0 0 1 0 1 1 0 0 0 1 1 0 0 1 0 0 1 0 1 0 1 0 0 0 0 1 0 0 1\n",
      " 0 0 0 0 1 1 1 0 0 0 1 1 0 1 1 0 0 1 0 0 0 1 0 1 1 1]\n"
     ]
    }
   ],
   "source": [
    "print(y_test)"
   ]
  },
  {
   "cell_type": "code",
   "execution_count": 15,
   "metadata": {},
   "outputs": [],
   "source": [
    "from sklearn.preprocessing import StandardScaler"
   ]
  },
  {
   "cell_type": "code",
   "execution_count": 16,
   "metadata": {},
   "outputs": [],
   "source": [
    "st_x= StandardScaler()  "
   ]
  },
  {
   "cell_type": "code",
   "execution_count": 17,
   "metadata": {},
   "outputs": [
    {
     "name": "stderr",
     "output_type": "stream",
     "text": [
      "C:\\Users\\hp\\Anaconda3\\lib\\site-packages\\sklearn\\utils\\validation.py:595: DataConversionWarning: Data with input dtype int64 was converted to float64 by StandardScaler.\n",
      "  warnings.warn(msg, DataConversionWarning)\n",
      "C:\\Users\\hp\\Anaconda3\\lib\\site-packages\\sklearn\\utils\\validation.py:595: DataConversionWarning: Data with input dtype int64 was converted to float64 by StandardScaler.\n",
      "  warnings.warn(msg, DataConversionWarning)\n"
     ]
    }
   ],
   "source": [
    "x_train= st_x.fit_transform(x_train)"
   ]
  },
  {
   "cell_type": "code",
   "execution_count": 18,
   "metadata": {},
   "outputs": [
    {
     "name": "stdout",
     "output_type": "stream",
     "text": [
      "[[ 1.67009484 -0.98019606  0.58164944 -0.88670699]\n",
      " [-1.52442817  1.02020406 -0.60673761  1.46173768]\n",
      " [ 0.59613378 -0.98019606 -0.01254409 -0.5677824 ]\n",
      " ...\n",
      " [-1.4150439   1.02020406 -0.21060859 -0.50979612]\n",
      " [ 1.19419143 -0.98019606 -1.10189888 -0.45180983]\n",
      " [ 1.45259625 -0.98019606 -1.20093113  1.40375139]]\n"
     ]
    }
   ],
   "source": [
    "print(x_train)"
   ]
  },
  {
   "cell_type": "code",
   "execution_count": 19,
   "metadata": {},
   "outputs": [
    {
     "name": "stderr",
     "output_type": "stream",
     "text": [
      "C:\\Users\\hp\\Anaconda3\\lib\\site-packages\\sklearn\\utils\\validation.py:595: DataConversionWarning: Data with input dtype int64 was converted to float64 by StandardScaler.\n",
      "  warnings.warn(msg, DataConversionWarning)\n"
     ]
    }
   ],
   "source": [
    "x_test= st_x.transform(x_test) "
   ]
  },
  {
   "cell_type": "code",
   "execution_count": 20,
   "metadata": {},
   "outputs": [
    {
     "name": "stdout",
     "output_type": "stream",
     "text": [
      "[[ 4.78960539e-01  1.02020406e+00 -8.04802115e-01  5.04963926e-01]\n",
      " [-5.54771608e-01 -9.80196059e-01 -1.25440855e-02 -5.67782405e-01]\n",
      " [ 1.20119022e+00  1.02020406e+00 -3.09640847e-01  1.57046197e-01]\n",
      " [ 6.59405075e-01 -9.80196059e-01 -8.04802115e-01  2.73018773e-01]\n",
      " [-7.57919871e-01 -9.80196059e-01 -3.09640847e-01 -5.67782405e-01]\n",
      " [ 1.72553483e+00  1.02020406e+00 -1.10189888e+00 -1.43757673e+00]\n",
      " [-1.15107956e+00 -9.80196059e-01 -7.05769861e-01 -1.58254245e+00]\n",
      " [-1.57040131e-01  1.02020406e+00 -2.10608593e-01  2.15757314e+00]\n",
      " [-3.60879806e-01 -9.80196059e-01 -1.99318916e+00 -4.59058115e-02]\n",
      " [-9.76984730e-01  1.02020406e+00  8.78746198e-01 -7.70734413e-01]\n",
      " [-3.23319037e-02  1.02020406e+00 -8.04802115e-01 -5.96775549e-01]\n",
      " [ 1.52879272e+00 -9.80196059e-01 -1.00286662e+00 -4.22816685e-01]\n",
      " [ 1.15325699e+00  1.02020406e+00 -1.11576339e-01 -4.22816685e-01]\n",
      " [-1.58748780e+00  1.02020406e+00  8.64881682e-02  2.15032485e-01]\n",
      " [ 7.67928607e-01  1.02020406e+00 -1.79512465e+00  4.75970782e-01]\n",
      " [ 1.37425498e+00 -9.80196059e-01 -6.06737608e-01  1.37475825e+00]\n",
      " [ 9.71556625e-01  1.02020406e+00 -1.11576339e-01  2.15032485e-01]\n",
      " [ 1.63953159e+00  1.02020406e+00 -1.89415691e+00  4.46977638e-01]\n",
      " [-5.28949470e-01 -9.80196059e-01  1.67100423e+00  1.75166912e+00]\n",
      " [ 2.32987036e-01  1.02020406e+00 -3.09640847e-01 -1.37959044e+00]\n",
      " [-1.15795135e+00 -9.80196059e-01 -3.09640847e-01 -6.54761837e-01]\n",
      " [ 7.68831676e-01 -9.80196059e-01  8.78746198e-01  2.15757314e+00]\n",
      " [-1.91173328e-01 -9.80196059e-01  2.84552676e-01 -5.38789261e-01]\n",
      " [ 5.38901764e-01  1.02020406e+00  8.78746198e-01  1.02684052e+00]\n",
      " [-1.09068680e+00 -9.80196059e-01 -1.49802789e+00 -1.20563157e+00]\n",
      " [ 8.76889563e-01 -9.80196059e-01  1.07681071e+00  2.07059371e+00]\n",
      " [-3.45019651e-01 -9.80196059e-01 -1.00286662e+00  5.04963926e-01]\n",
      " [ 8.42345892e-02  1.02020406e+00 -9.03834369e-01  3.02011918e-01]\n",
      " [-8.55747675e-01 -9.80196059e-01 -1.11576339e-01 -2.19864676e-01]\n",
      " [-1.51223673e+00 -9.80196059e-01 -6.06737608e-01  4.75970782e-01]\n",
      " [-1.47741212e+00  1.02020406e+00 -1.69609240e+00  5.33957070e-01]\n",
      " [-7.63705158e-01  1.02020406e+00 -1.11576339e-01  2.73018773e-01]\n",
      " [ 1.73328147e+00  1.02020406e+00  1.86906873e+00 -2.77850964e-01]\n",
      " [-9.81316640e-01  1.02020406e+00 -1.11576339e-01 -4.80802973e-01]\n",
      " [ 3.71876274e-01  1.02020406e+00 -1.39899564e+00 -3.35837252e-01]\n",
      " [ 7.76366660e-01  1.02020406e+00 -1.99318916e+00 -5.09796117e-01]\n",
      " [-9.75786611e-02  1.02020406e+00 -1.59706014e+00  3.31005062e-01]\n",
      " [-1.55303006e+00 -9.80196059e-01 -4.08673100e-01 -7.70734413e-01]\n",
      " [-2.58917637e-01 -9.80196059e-01 -7.05769861e-01 -1.03167271e+00]\n",
      " [-1.37824382e+00 -9.80196059e-01  1.07681071e+00 -9.73686422e-01]\n",
      " [ 1.05225433e+00  1.02020406e+00 -1.10189888e+00  5.33957070e-01]\n",
      " [-2.45315155e-01  1.02020406e+00  2.84552676e-01 -5.09796117e-01]\n",
      " [-1.32175966e+00 -9.80196059e-01 -1.10189888e+00  4.17984494e-01]\n",
      " [ 1.68235683e+00  1.02020406e+00 -3.09640847e-01 -1.43757673e+00]\n",
      " [ 1.91643395e-01 -9.80196059e-01  4.82617183e-01  1.22979253e+00]\n",
      " [-5.19481353e-01 -9.80196059e-01 -1.10189888e+00 -3.35837252e-01]\n",
      " [ 1.44171708e+00 -9.80196059e-01 -1.11576339e-01  3.02011918e-01]\n",
      " [ 8.23199270e-01 -9.80196059e-01  1.37390747e+00  5.91943358e-01]\n",
      " [ 1.00027141e+00  1.02020406e+00 -1.20093113e+00 -1.14764529e+00]\n",
      " [-1.09397454e+00  1.02020406e+00  1.07681071e+00  4.75970782e-01]\n",
      " [ 1.18349570e+00 -9.80196059e-01  1.86906873e+00  1.51972397e+00]\n",
      " [-9.71975517e-01 -9.80196059e-01 -4.08673100e-01 -1.29261101e+00]\n",
      " [-1.76419307e+00 -9.80196059e-01 -3.09640847e-01 -3.64830396e-01]\n",
      " [-1.70432239e+00  1.02020406e+00 -4.08673100e-01  1.31677196e+00]\n",
      " [-1.15772559e+00 -9.80196059e-01  2.06713324e+00  5.33957070e-01]\n",
      " [ 7.12403955e-01  1.02020406e+00  6.80681690e-01 -1.08965900e+00]\n",
      " [ 7.50713848e-01 -9.80196059e-01 -9.03834369e-01  3.88991350e-01]\n",
      " [-1.70662240e+00 -9.80196059e-01 -1.20093113e+00  3.02011918e-01]\n",
      " [ 1.42659067e+00  1.02020406e+00  1.07681071e+00 -1.20563157e+00]\n",
      " [-7.39943147e-01  1.02020406e+00 -1.49802789e+00 -1.43757673e+00]\n",
      " [-1.39466839e+00  1.02020406e+00 -6.06737608e-01 -1.49556302e+00]\n",
      " [ 1.40620106e+00  1.02020406e+00  2.16616550e+00 -7.99727558e-01]\n",
      " [ 1.58440203e+00  1.02020406e+00 -1.89415691e+00  1.86039341e-01]\n",
      " [ 1.11510104e-01  1.02020406e+00 -2.10608593e-01  8.52881655e-01]\n",
      " [-4.18365811e-01 -9.80196059e-01 -1.89415691e+00 -1.26361786e+00]\n",
      " [ 1.17155826e+00  1.02020406e+00  2.16616550e+00  3.88991350e-01]\n",
      " [ 7.71921866e-01 -9.80196059e-01 -1.39899564e+00  5.62950214e-01]\n",
      " [ 5.22886394e-01  1.02020406e+00 -1.10189888e+00 -3.35837252e-01]\n",
      " [-1.21899319e+00  1.02020406e+00  1.85520422e-01 -6.54761837e-01]\n",
      " [ 3.69364612e-01 -9.80196059e-01  3.83584929e-01  1.20804767e-02]\n",
      " [ 4.39210109e-02 -9.80196059e-01 -6.06737608e-01  2.33153200e+00]\n",
      " [ 1.68564457e+00 -9.80196059e-01 -3.09640847e-01  2.15032485e-01]\n",
      " [-1.61618847e+00 -9.80196059e-01 -1.59706014e+00 -1.90871532e-01]\n",
      " [-5.95875372e-01  1.02020406e+00  6.80681690e-01 -1.37959044e+00]\n",
      " [ 1.38489427e+00  1.02020406e+00 -1.10189888e+00  5.62950214e-01]\n",
      " [-8.85351416e-01  1.02020406e+00 -1.99318916e+00  3.59998206e-01]\n",
      " [ 1.08053169e+00 -9.80196059e-01  3.83584929e-01  2.73018773e-01]\n",
      " [-1.32139279e+00 -9.80196059e-01  1.85520422e-01 -2.77850964e-01]\n",
      " [ 1.22921359e+00 -9.80196059e-01  1.47293972e+00 -1.03167271e+00]\n",
      " [-7.35724120e-01 -9.80196059e-01  8.78746198e-01  1.08482681e+00]\n",
      " [-3.78292111e-01  1.02020406e+00  1.96810099e+00  2.15757314e+00]\n",
      " [-1.22360731e+00 -9.80196059e-01  2.06713324e+00  3.88991350e-01]\n",
      " [-6.00828143e-01 -9.80196059e-01 -1.39899564e+00 -4.22816685e-01]\n",
      " [ 2.04159371e-01 -9.80196059e-01 -1.20093113e+00 -1.00267957e+00]\n",
      " [ 6.30464525e-01 -9.80196059e-01  1.96810099e+00 -9.15700134e-01]\n",
      " [ 4.13304578e-01 -9.80196059e-01  3.83584929e-01  3.02011918e-01]\n",
      " [ 4.61505902e-01 -9.80196059e-01  1.85520422e-01  1.57046197e-01]\n",
      " [ 2.40931224e-01  1.02020406e+00  2.06713324e+00  1.75166912e+00]\n",
      " [ 2.06939272e-03 -9.80196059e-01  7.79713944e-01 -8.28720702e-01]\n",
      " [ 5.59149001e-02 -9.80196059e-01  2.84552676e-01 -2.77850964e-01]\n",
      " [-1.12295869e-01  1.02020406e+00  3.83584929e-01 -1.61878388e-01]\n",
      " [-1.51541158e+00 -9.80196059e-01 -1.11576339e-01  2.21555943e+00]\n",
      " [ 1.18310061e+00 -9.80196059e-01 -1.49802789e+00 -6.25768693e-01]\n",
      " [-1.28604609e+00  1.02020406e+00 -1.29996338e+00 -1.06066585e+00]\n",
      " [ 5.46521411e-01  1.02020406e+00 -1.39899564e+00  4.17984494e-01]\n",
      " [ 8.34247759e-01 -9.80196059e-01 -1.10189888e+00  7.65902223e-01]\n",
      " [-1.60450501e+00  1.02020406e+00 -1.49802789e+00 -1.90871532e-01]\n",
      " [ 1.63851564e+00  1.02020406e+00  9.77778452e-01 -1.06066585e+00]\n",
      " [-1.28881174e+00  1.02020406e+00  9.77778452e-01  5.91943358e-01]\n",
      " [-5.25760506e-01  1.02020406e+00  3.83584929e-01  9.97847375e-01]]\n"
     ]
    }
   ],
   "source": [
    "print(x_test)"
   ]
  },
  {
   "cell_type": "code",
   "execution_count": 21,
   "metadata": {},
   "outputs": [],
   "source": [
    "from sklearn.linear_model import LogisticRegression"
   ]
  },
  {
   "cell_type": "code",
   "execution_count": 22,
   "metadata": {},
   "outputs": [
    {
     "name": "stderr",
     "output_type": "stream",
     "text": [
      "C:\\Users\\hp\\Anaconda3\\lib\\site-packages\\sklearn\\linear_model\\logistic.py:433: FutureWarning: Default solver will be changed to 'lbfgs' in 0.22. Specify a solver to silence this warning.\n",
      "  FutureWarning)\n"
     ]
    },
    {
     "data": {
      "text/plain": [
       "LogisticRegression(C=1.0, class_weight=None, dual=False, fit_intercept=True,\n",
       "          intercept_scaling=1, max_iter=100, multi_class='warn',\n",
       "          n_jobs=None, penalty='l2', random_state=0, solver='warn',\n",
       "          tol=0.0001, verbose=0, warm_start=False)"
      ]
     },
     "execution_count": 22,
     "metadata": {},
     "output_type": "execute_result"
    }
   ],
   "source": [
    "classifier= LogisticRegression(random_state=0)  \n",
    "classifier.fit(x_train, y_train)"
   ]
  },
  {
   "cell_type": "code",
   "execution_count": 23,
   "metadata": {},
   "outputs": [],
   "source": [
    "y_pred= classifier.predict(x_test)"
   ]
  },
  {
   "cell_type": "code",
   "execution_count": 24,
   "metadata": {},
   "outputs": [
    {
     "name": "stdout",
     "output_type": "stream",
     "text": [
      "[0 0 0 0 0 0 0 1 0 1 0 0 0 0 0 0 0 0 1 0 0 1 0 1 0 1 0 0 0 0 0 0 1 0 0 0 0\n",
      " 0 0 1 0 0 0 0 1 0 0 1 0 1 1 0 0 1 1 0 0 0 0 0 0 1 0 0 0 1 0 0 0 0 1 0 0 0\n",
      " 0 0 0 0 1 1 1 1 0 0 1 1 0 1 0 0 0 1 0 0 0 0 0 0 1 1]\n"
     ]
    }
   ],
   "source": [
    "print(y_pred)"
   ]
  },
  {
   "cell_type": "code",
   "execution_count": 25,
   "metadata": {},
   "outputs": [
    {
     "data": {
      "text/plain": [
       "array([0, 0, 0, 0, 0, 0, 0, 1, 0, 0, 0, 0, 0, 0, 0, 0, 0, 0, 1, 0, 0, 1,\n",
       "       0, 1, 0, 1, 0, 0, 0, 0, 0, 1, 1, 0, 0, 0, 0, 0, 0, 1, 0, 0, 0, 0,\n",
       "       1, 0, 0, 1, 0, 1, 1, 0, 0, 0, 1, 1, 0, 0, 1, 0, 0, 1, 0, 1, 0, 1,\n",
       "       0, 0, 0, 0, 1, 0, 0, 1, 0, 0, 0, 0, 1, 1, 1, 0, 0, 0, 1, 1, 0, 1,\n",
       "       1, 0, 0, 1, 0, 0, 0, 1, 0, 1, 1, 1], dtype=int64)"
      ]
     },
     "execution_count": 25,
     "metadata": {},
     "output_type": "execute_result"
    }
   ],
   "source": [
    "y_test"
   ]
  },
  {
   "cell_type": "code",
   "execution_count": 26,
   "metadata": {},
   "outputs": [],
   "source": [
    "from sklearn.metrics import confusion_matrix"
   ]
  },
  {
   "cell_type": "code",
   "execution_count": 27,
   "metadata": {},
   "outputs": [],
   "source": [
    "cm= confusion_matrix(y_test,y_pred)"
   ]
  },
  {
   "cell_type": "code",
   "execution_count": 28,
   "metadata": {},
   "outputs": [
    {
     "name": "stdout",
     "output_type": "stream",
     "text": [
      "confusion matrix: [[65  3]\n",
      " [ 8 24]]\n"
     ]
    }
   ],
   "source": [
    "print(\"confusion matrix:\",cm)"
   ]
  },
  {
   "cell_type": "code",
   "execution_count": 29,
   "metadata": {},
   "outputs": [],
   "source": [
    "from sklearn.metrics import accuracy_score "
   ]
  },
  {
   "cell_type": "code",
   "execution_count": 30,
   "metadata": {},
   "outputs": [
    {
     "name": "stdout",
     "output_type": "stream",
     "text": [
      "Accuracy :  0.89\n"
     ]
    }
   ],
   "source": [
    "print (\"Accuracy : \", accuracy_score(y_test, y_pred))"
   ]
  },
  {
   "cell_type": "code",
   "execution_count": null,
   "metadata": {},
   "outputs": [],
   "source": []
  },
  {
   "cell_type": "code",
   "execution_count": null,
   "metadata": {},
   "outputs": [],
   "source": [
    "from matplotlib.colors import ListedColormap  \n",
    "x_set, y_set = x_test, y_test  \n",
    "x1, x2 = np.meshgrid(np.arange(start = x_set[:, 0].min() - 1, stop = x_set[:, 0].max() + 1, step  =0.01),  \n",
    "np.arange(start = x_set[:, 1].min() - 1, stop = x_set[:, 1].max() + 1, step = 0.01))  \n",
    "mtp.contourf(x1, x2, classifier.predict(np.array([x1.ravel(), x2.ravel()]).T).reshape(x1.shape),  \n",
    "alpha = 0.75, cmap = ListedColormap(('white','grey' )))  \n",
    "mtp.xlim(x1.min(), x1.max())  \n",
    "mtp.ylim(x2.min(), x2.max())  \n",
    "for i, j in enumerate(np.unique(y_set)):  \n",
    "    mtp.scatter(x_set[y_set == j, 0], x_set[y_set == j, 1],  \n",
    "        c = ListedColormap(('red', 'blue'))(i), label = j)  \n",
    "mtp.title('Logistic Regression (Test set)')  \n",
    "mtp.xlabel('Age')  \n",
    "mtp.ylabel('Estimated Salary')  \n",
    "mtp.legend()  \n",
    "mtp.show() "
   ]
  },
  {
   "cell_type": "code",
   "execution_count": null,
   "metadata": {},
   "outputs": [],
   "source": []
  }
 ],
 "metadata": {
  "kernelspec": {
   "display_name": "Python 3",
   "language": "python",
   "name": "python3"
  },
  "language_info": {
   "codemirror_mode": {
    "name": "ipython",
    "version": 3
   },
   "file_extension": ".py",
   "mimetype": "text/x-python",
   "name": "python",
   "nbconvert_exporter": "python",
   "pygments_lexer": "ipython3",
   "version": "3.7.3"
  }
 },
 "nbformat": 4,
 "nbformat_minor": 2
}
