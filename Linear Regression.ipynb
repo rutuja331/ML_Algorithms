{
 "cells": [
  {
   "cell_type": "code",
   "execution_count": 1,
   "metadata": {},
   "outputs": [],
   "source": [
    "import numpy as np\n",
    "import pandas as pd\n",
    "import matplotlib.pyplot as mtp"
   ]
  },
  {
   "cell_type": "code",
   "execution_count": 2,
   "metadata": {},
   "outputs": [],
   "source": [
    "x= np.array([5,3,79,22,47,39,16,58,97,53,21,2,50,44,98,41,35,55,69,65,91,6,38,70,57]).reshape(-1,1)"
   ]
  },
  {
   "cell_type": "code",
   "execution_count": 3,
   "metadata": {},
   "outputs": [
    {
     "data": {
      "text/plain": [
       "array([[ 5],\n",
       "       [ 3],\n",
       "       [79],\n",
       "       [22],\n",
       "       [47],\n",
       "       [39],\n",
       "       [16],\n",
       "       [58],\n",
       "       [97],\n",
       "       [53],\n",
       "       [21],\n",
       "       [ 2],\n",
       "       [50],\n",
       "       [44],\n",
       "       [98],\n",
       "       [41],\n",
       "       [35],\n",
       "       [55],\n",
       "       [69],\n",
       "       [65],\n",
       "       [91],\n",
       "       [ 6],\n",
       "       [38],\n",
       "       [70],\n",
       "       [57]])"
      ]
     },
     "execution_count": 3,
     "metadata": {},
     "output_type": "execute_result"
    }
   ],
   "source": [
    "x"
   ]
  },
  {
   "cell_type": "code",
   "execution_count": 4,
   "metadata": {},
   "outputs": [],
   "source": [
    "y= np.array([24,5,95,74,82,77,41,85,95,15,2,69,79,23,54,61,51,61,6,26,20,5,66,11,91])"
   ]
  },
  {
   "cell_type": "code",
   "execution_count": 5,
   "metadata": {},
   "outputs": [
    {
     "data": {
      "text/plain": [
       "array([24,  5, 95, 74, 82, 77, 41, 85, 95, 15,  2, 69, 79, 23, 54, 61, 51,\n",
       "       61,  6, 26, 20,  5, 66, 11, 91])"
      ]
     },
     "execution_count": 5,
     "metadata": {},
     "output_type": "execute_result"
    }
   ],
   "source": [
    "y"
   ]
  },
  {
   "cell_type": "code",
   "execution_count": 6,
   "metadata": {},
   "outputs": [],
   "source": [
    "from sklearn.model_selection import train_test_split"
   ]
  },
  {
   "cell_type": "code",
   "execution_count": 7,
   "metadata": {},
   "outputs": [],
   "source": [
    "x_train, x_test, y_train, y_test= train_test_split(x, y, test_size= 1/3, random_state=0)"
   ]
  },
  {
   "cell_type": "code",
   "execution_count": 8,
   "metadata": {},
   "outputs": [
    {
     "data": {
      "text/plain": [
       "array([[98],\n",
       "       [ 3],\n",
       "       [21],\n",
       "       [44],\n",
       "       [97],\n",
       "       [16],\n",
       "       [69],\n",
       "       [47],\n",
       "       [53],\n",
       "       [58],\n",
       "       [91],\n",
       "       [22],\n",
       "       [ 5],\n",
       "       [ 6],\n",
       "       [41],\n",
       "       [50]])"
      ]
     },
     "execution_count": 8,
     "metadata": {},
     "output_type": "execute_result"
    }
   ],
   "source": [
    "x_train"
   ]
  },
  {
   "cell_type": "code",
   "execution_count": 9,
   "metadata": {},
   "outputs": [],
   "source": [
    "from sklearn.linear_model import LinearRegression"
   ]
  },
  {
   "cell_type": "code",
   "execution_count": 10,
   "metadata": {},
   "outputs": [
    {
     "data": {
      "text/plain": [
       "array([[39],\n",
       "       [79],\n",
       "       [65],\n",
       "       [35],\n",
       "       [ 2],\n",
       "       [38],\n",
       "       [55],\n",
       "       [57],\n",
       "       [70]])"
      ]
     },
     "execution_count": 10,
     "metadata": {},
     "output_type": "execute_result"
    }
   ],
   "source": [
    "x_test"
   ]
  },
  {
   "cell_type": "code",
   "execution_count": 11,
   "metadata": {},
   "outputs": [],
   "source": [
    "regressor= LinearRegression()"
   ]
  },
  {
   "cell_type": "code",
   "execution_count": 12,
   "metadata": {},
   "outputs": [
    {
     "data": {
      "text/plain": [
       "array([54,  5,  2, 23, 95, 41,  6, 82, 15, 85, 20, 74, 24,  5, 61, 79])"
      ]
     },
     "execution_count": 12,
     "metadata": {},
     "output_type": "execute_result"
    }
   ],
   "source": [
    "y_train"
   ]
  },
  {
   "cell_type": "code",
   "execution_count": 13,
   "metadata": {},
   "outputs": [
    {
     "data": {
      "text/plain": [
       "LinearRegression(copy_X=True, fit_intercept=True, n_jobs=None,\n",
       "         normalize=False)"
      ]
     },
     "execution_count": 13,
     "metadata": {},
     "output_type": "execute_result"
    }
   ],
   "source": [
    "regressor.fit(x_train, y_train)"
   ]
  },
  {
   "cell_type": "code",
   "execution_count": 14,
   "metadata": {},
   "outputs": [
    {
     "data": {
      "text/plain": [
       "array([77, 95, 26, 51, 69, 66, 61, 91, 11])"
      ]
     },
     "execution_count": 14,
     "metadata": {},
     "output_type": "execute_result"
    }
   ],
   "source": [
    "y_test"
   ]
  },
  {
   "cell_type": "code",
   "execution_count": 15,
   "metadata": {},
   "outputs": [],
   "source": [
    "y_pred= regressor.predict(x_test)"
   ]
  },
  {
   "cell_type": "code",
   "execution_count": 16,
   "metadata": {},
   "outputs": [
    {
     "data": {
      "text/plain": [
       "array([39.54769649, 55.31547223, 49.79675072, 37.97091891, 24.96250393,\n",
       "       39.1535021 , 45.85480679, 46.64319557, 51.76772269])"
      ]
     },
     "execution_count": 16,
     "metadata": {},
     "output_type": "execute_result"
    }
   ],
   "source": [
    "y_pred"
   ]
  },
  {
   "cell_type": "code",
   "execution_count": 17,
   "metadata": {},
   "outputs": [],
   "source": [
    "x_pred= regressor.predict(x_train)"
   ]
  },
  {
   "cell_type": "code",
   "execution_count": 18,
   "metadata": {},
   "outputs": [
    {
     "data": {
      "text/plain": [
       "array([62.80516571, 25.35669832, 32.45219741, 41.51866846, 62.41097131,\n",
       "       30.48122544, 51.3735283 , 42.70125164, 45.066418  , 47.03738997,\n",
       "       60.04580495, 32.8463918 , 26.14508711, 26.5392815 , 40.33608528,\n",
       "       43.88383482])"
      ]
     },
     "execution_count": 18,
     "metadata": {},
     "output_type": "execute_result"
    }
   ],
   "source": [
    "x_pred"
   ]
  },
  {
   "cell_type": "code",
   "execution_count": 19,
   "metadata": {},
   "outputs": [
    {
     "data": {
      "image/png": "[encoded data removed]",
      "text/plain": [
       "<Figure size 432x288 with 1 Axes>"
      ]
     },
     "metadata": {
      "needs_background": "light"
     },
     "output_type": "display_data"
    }
   ],
   "source": [
    "mtp.scatter(x_train, y_train, color=\"orange\")\n",
    "mtp.plot(x_train, x_pred, color=\"black\")\n",
    "mtp.title(\" (Training Dataset)\")\n",
    "mtp.xlabel(\"Years of Experience\")\n",
    "mtp.ylabel(\"Salary(In Rupees)\")\n",
    "mtp.show()"
   ]
  },
  {
   "cell_type": "code",
   "execution_count": 20,
   "metadata": {},
   "outputs": [
    {
     "data": {
      "image/png": "[encoded data removed]",
      "text/plain": [
       "<Figure size 432x288 with 1 Axes>"
      ]
     },
     "metadata": {
      "needs_background": "light"
     },
     "output_type": "display_data"
    }
   ],
   "source": [
    "mtp.scatter(x_test, y_test, color=\"blue\") \n",
    "mtp.plot(x_train, x_pred, color=\"red\") \n",
    "mtp.title(\"Salary vs Experience (Test Dataset)\")\n",
    "mtp.xlabel(\"Years of Experience\")\n",
    "mtp.ylabel(\"Salary(In Rupees)\")\n",
    "mtp.show()"
   ]
  }
 ],
 "metadata": {
  "kernelspec": {
   "display_name": "Python 3",
   "language": "python",
   "name": "python3"
  },
  "language_info": {
   "codemirror_mode": {
    "name": "ipython",
    "version": 3
   },
   "file_extension": ".py",
   "mimetype": "text/x-python",
   "name": "python",
   "nbconvert_exporter": "python",
   "pygments_lexer": "ipython3",
   "version": "3.7.3"
  }
 },
 "nbformat": 4,
 "nbformat_minor": 2
}
